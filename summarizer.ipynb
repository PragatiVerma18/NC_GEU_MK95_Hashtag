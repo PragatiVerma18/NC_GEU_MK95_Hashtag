{
 "cells": [
  {
   "cell_type": "code",
   "execution_count": 31,
   "metadata": {},
   "outputs": [],
   "source": [
    "import sumy\n",
    "from sumy.parsers.plaintext import PlaintextParser\n",
    "from sumy.nlp.tokenizers import Tokenizer\n",
    "from sumy.summarizers.lex_rank import LexRankSummarizer"
   ]
  },
  {
   "cell_type": "code",
   "execution_count": 32,
   "metadata": {},
   "outputs": [
    {
     "name": "stderr",
     "output_type": "stream",
     "text": [
      "[nltk_data] Downloading package punkt to\n",
      "[nltk_data]     C:\\Users\\DELL\\AppData\\Roaming\\nltk_data...\n",
      "[nltk_data]   Package punkt is already up-to-date!\n"
     ]
    },
    {
     "data": {
      "text/plain": [
       "True"
      ]
     },
     "execution_count": 32,
     "metadata": {},
     "output_type": "execute_result"
    }
   ],
   "source": [
    "import nltk\n",
    "nltk.download('punkt')"
   ]
  },
  {
   "cell_type": "code",
   "execution_count": 33,
   "metadata": {},
   "outputs": [],
   "source": [
    "files='C:\\\\Users\\\\DELL\\\\Desktop\\\\SIH\\\\new2.pdf'\n",
    "file=files.encode('latin-1')"
   ]
  },
  {
   "cell_type": "code",
   "execution_count": 34,
   "metadata": {},
   "outputs": [
    {
     "data": {
      "text/plain": [
       "'C:\\\\Users\\\\DELL\\\\Desktop\\\\SIH\\\\new2.pdf'"
      ]
     },
     "execution_count": 34,
     "metadata": {},
     "output_type": "execute_result"
    }
   ],
   "source": [
    "files"
   ]
  },
  {
   "cell_type": "code",
   "execution_count": 35,
   "metadata": {},
   "outputs": [],
   "source": [
    "document1 =\"\"\"Gestalt theory originated in Austria and Germany as a reaction against the associationist and structural school`s atomistic orientation (an approach which fragmented experience into distinct and unrelated elements). Gestalt studies made use instead of phenomenology. This method, with a tradition going back to Johann Wolgang von Goethe, involves nothing more than the description of direct psychological experience, with no restrictions on what is permissible in the description. Gestalt psychology was in part an attempt to ad a humanistic dimension to what was considered a sterile approach to the scientific study of mental life.\n",
    "\n",
    "Studied shape-oriented psychology is the study of psychic phenomena holistic nature, and using the method of introspection. Gestalt psychologists were significantly influenced by philosophical phenomenology and also were inspired by the discovery of the magnetic field. Shape psychology influenced primarily cognitive psychology, social psychology and then psychotherapy.\n",
    "\n",
    "Gestalt psychology is a school of thought that looks at the human mind and behavior as a whole. School of psychology, that interprets phenomena as organized wholes rather than as aggregates of distinct parts, maintaining that the whole is greater than the sum of its parts.\n",
    "\n",
    "The Gestalt effect refers to the form-forming capability of our senses, particularly with respect to the visual recognition of figures and whole forms instead of just a collection of simple lines and curves.\n",
    "\n",
    "According to the school, understanding of psychological phenomena such as perceptual illusions could not be derived by merely isolating the elementary parts for analysis, because human perception may organize sensory stimuli in any number of ways, making the whole different from the sum of the parts. Gestalt psychologists suggest that the events in the brain bear a structural correspondence to psychological events; indeed, it has been shown that steady electric currents in the brain correspond to structured perceptual events\n",
    "\n",
    "Gestalt psychology was founded by German thinkers Max Wertheimer, Wolfgang Kohler, and Kurt Koffka and focused on how people interpret the world. The Gestalt perspective formed partially as a response to the structuralism of Wilhelm Wundt, who focused on breaking down mental events and experiences to the smallest elements. Max Wertheimer noted that rapid sequences of perceptual events, such as rows of flashing lights, create the illusion of motion even when there is none. This is known as the phi phenomenon. Motion pictures are based upon this principle, with a series of still images appearing in rapid succession to form a seamless visual experience. \"\"\""
   ]
  },
  {
   "cell_type": "code",
   "execution_count": 24,
   "metadata": {},
   "outputs": [
    {
     "name": "stdout",
     "output_type": "stream",
     "text": [
      "2\n",
      " \n",
      "Indian Council of Medical Research (ICMR), Indi\n",
      "a\n",
      " \n",
      "Ansari Nagar, New Delhi\n",
      "-\n",
      "110029\n",
      " \n",
      " \n",
      "Advertisement\n",
      " \n",
      "The following positions have to be filled purely on temporary basis under the ICMR NTF scheme \n",
      "under ICMR\n",
      "-\n",
      "National Institute of Medical Statistics, New Delhi.\n",
      " \n",
      " \n",
      "Name of the Post\n",
      " \n",
      "Lab. Technician\n",
      " \n",
      "Number of Post\n",
      " \n",
      "03\n",
      " \n",
      "Upper Age Limit\n",
      " \n",
      "General \n",
      "\n",
      " \n",
      "35 years, Other \n",
      "Backward Classes (OBC) \n",
      "\n",
      " \n",
      "38 \n",
      "years and SC/ST and CAT. I \n",
      "\n",
      " \n",
      "40 \n",
      "years.\n",
      " \n",
      " \n",
      "Consolidated Salary\n",
      " \n",
      "Rs. 30\n",
      ",000\n",
      "/\n",
      "-\n",
      "pm (fixed)\n",
      " \n",
      "Duration\n",
      " \n",
      "15\n",
      " \n",
      "months\n",
      " \n",
      "Essential Qualification and\n",
      " \n",
      "Experience\n",
      " \n",
      "\n",
      "Microbiology, Biotechnology, \n",
      "and Biochemistry from a \n",
      "recognized university with work \n",
      "experience in relevant field.\n",
      " \n",
      "Desirable Experience\n",
      " \n",
      "Experience in a research \n",
      "organization\n",
      " \n",
      "Nature of Duties\n",
      " \n",
      "Overall coordinat\n",
      "ion of \n",
      "administrative activities under \n",
      "the project along with the Study \n",
      "team\n",
      " \n",
      " \n",
      "\n"
     ]
    }
   ],
   "source": [
    "import PyPDF2 \n",
    "  \n",
    "# creating a pdf file object \n",
    "pdfFileObj = open('C:\\\\Users\\\\DELL\\\\Desktop\\\\SIH\\\\new2.pdf', 'rb') \n",
    "  \n",
    "# creating a pdf reader object \n",
    "pdfReader = PyPDF2.PdfFileReader(pdfFileObj) \n",
    "  \n",
    "# printing number of pages in pdf file \n",
    "print(pdfReader.numPages) \n",
    "  \n",
    "# creating a page object \n",
    "pageObj = pdfReader.getPage(0)\n",
    "  \n",
    "# extracting text from page \n",
    "print(pageObj.extractText()) \n",
    "  \n",
    "# closing the pdf file object \n",
    "pdfFileObj.close() "
   ]
  },
  {
   "cell_type": "code",
   "execution_count": 25,
   "metadata": {},
   "outputs": [],
   "source": [
    "#d2=\"\"\"GOVT. OF NCT OF DELHI\\nDR. HEDGEWAR AROGYA SANSTHAN\\nKARKARDOOMA, DELHI\\n\\nNo.F.1/09 /2020/8RARReg/DHAS/ Ext. Jo FY\\nINTERVIEW NOTICE\\n\\nApplicati a 5\\nSeno Hood are eee in the prescribed format from eligible candidate to fi\\ni a\\nee a Octors on Regular basis in this hospital under the residency scheme as per below\\n. e candidate should report in the Establishment Branch, DH.\\n\\ninterview as given below. Regi i ‘ AS Hospital on the day of\\n- Registration of the candidates a i i i i :\\nam to 11:30 am on the date of interview. —————_\\n\\nDated: 3 -o} -#2IDA\\n\\n \\n\\nIl up the vacant posts of\\n\\nao rete for the post of SR on ‘regular basis, in the event of non-\\nbe considered for a ae requisite no. of candidates of requisite categories the candidates shall also\\nappaininrent of xe amen ae these posts on adhoc basis for a period of 44 days or candidate’s\\nGeneral/ Reserved 8 asis whichever is earlier from all the categories of the candidate against the\\n\\nserved category posts. Therefore the General candidates may also apply for the reserved\\n\\ncategory and vice versa. Further the application f i i\\ncn andes pp! ion fee for the candidates selected on adhoc basis shall be\\n\\nFor Senior Residents:-\\n\\n \\n\\n    \\n    \\n\\nSubject Vacancy Position Date of\\n\\n(Tentative) Interview\\n\\n \\n\\nGEN OBC | Total\\n\\n \\n\\n   \\n \\n   \\n    \\n  \\n\\n   \\n\\n \\n\\n \\n\\n \\n\\n  \\n \\n\\n \\n\\nSENIOR Anaesthesia 02 - 02 40/01/2020\\nRESIDENT (Friday)\\nObs & Gynae 01 02 03 y\\nPaediatrics - 01 01\\nRadiology 01 - 01\\nTOTAL 04 03 07 (02 post horizontally\\n\\nreserved in any subject for\\nlocomoter disability under\\nphysically handicap\\ncategory)\\n\\ns- didates selected on adhoc basis against reserved seat will be appointed for a\\nee alae 44 ‘days extendable upto a maximum period of 03 years or till the regular candidate\\n\\njoins whichever is earlier.\\n\\ni ost graduate Degree/ Diploma/DNB in the concerned specialty from a\\nized late ee la a should have a valid registration with Delhi Medical Council and\\non es didat ust not have completed 03 years Senior Residency in any recognized institution\\n_ Sean 138 and ad-hoc period. In case of non availability of PG candidates, minimum 03 years\\nee eS conceited specialty may be considered as per residency scheme. However such\\ncandids ee will be appointed on adhoc basis for 44 days extendable upto 03 years or till the candidate\\nswith PG degree/diploma /DNB are available, whichever is earlier.\\nGeneral (5 yrs rélaxable for SC/ST,3 yrs relaxable for OBC and 5 yrs extra relaxable\\nte) as on date of interview.\\n\\nQualification:- MBB\\n\\nAge:- 37 yrs for n\\nfor physically handicapped candida’\\n\\n: : : ‘ . , ae\\nT e:- The tenure of senior residents is for a period of 3 yrs including any service rendered\\n‘enure:-\\n\\ncor residents earlier on ad-hoc /regular basis in any recognized institution.\"\"\""
   ]
  },
  {
   "cell_type": "code",
   "execution_count": 36,
   "metadata": {},
   "outputs": [
    {
     "data": {
      "text/plain": [
       "'Gestalt theory originated in Austria and Germany as a reaction against the associationist and structural school`s atomistic orientation (an approach which fragmented experience into distinct and unrelated elements). Gestalt studies made use instead of phenomenology. This method, with a tradition going back to Johann Wolgang von Goethe, involves nothing more than the description of direct psychological experience, with no restrictions on what is permissible in the description. Gestalt psychology was in part an attempt to ad a humanistic dimension to what was considered a sterile approach to the scientific study of mental life.\\n\\nStudied shape-oriented psychology is the study of psychic phenomena holistic nature, and using the method of introspection. Gestalt psychologists were significantly influenced by philosophical phenomenology and also were inspired by the discovery of the magnetic field. Shape psychology influenced primarily cognitive psychology, social psychology and then psychotherapy.\\n\\nGestalt psychology is a school of thought that looks at the human mind and behavior as a whole. School of psychology, that interprets phenomena as organized wholes rather than as aggregates of distinct parts, maintaining that the whole is greater than the sum of its parts.\\n\\nThe Gestalt effect refers to the form-forming capability of our senses, particularly with respect to the visual recognition of figures and whole forms instead of just a collection of simple lines and curves.\\n\\nAccording to the school, understanding of psychological phenomena such as perceptual illusions could not be derived by merely isolating the elementary parts for analysis, because human perception may organize sensory stimuli in any number of ways, making the whole different from the sum of the parts. Gestalt psychologists suggest that the events in the brain bear a structural correspondence to psychological events; indeed, it has been shown that steady electric currents in the brain correspond to structured perceptual events\\n\\nGestalt psychology was founded by German thinkers Max Wertheimer, Wolfgang Kohler, and Kurt Koffka and focused on how people interpret the world. The Gestalt perspective formed partially as a response to the structuralism of Wilhelm Wundt, who focused on breaking down mental events and experiences to the smallest elements. Max Wertheimer noted that rapid sequences of perceptual events, such as rows of flashing lights, create the illusion of motion even when there is none. This is known as the phi phenomenon. Motion pictures are based upon this principle, with a series of still images appearing in rapid succession to form a seamless visual experience. '"
      ]
     },
     "execution_count": 36,
     "metadata": {},
     "output_type": "execute_result"
    }
   ],
   "source": [
    "with open('C:\\\\Users\\\\DELL\\\\Desktop\\\\SIH\\\\new2.pdf','r',encoding='latin-1') as f:\n",
    "    d1 = f.read()\n",
    "document1"
   ]
  },
  {
   "cell_type": "code",
   "execution_count": 37,
   "metadata": {},
   "outputs": [],
   "source": [
    "Parser = PlaintextParser.from_string(document1,Tokenizer(\"english\"),)"
   ]
  },
  {
   "cell_type": "code",
   "execution_count": 28,
   "metadata": {},
   "outputs": [],
   "source": [
    "#parser = PlaintextParser.from_file(file, Tokenizer(\"english\"))#do not execute this line while running code"
   ]
  },
  {
   "cell_type": "code",
   "execution_count": 38,
   "metadata": {},
   "outputs": [
    {
     "name": "stdout",
     "output_type": "stream",
     "text": [
      "School of psychology, that interprets phenomena as organized wholes rather than as aggregates of distinct parts, maintaining that the whole is greater than the sum of its parts.\n",
      "Gestalt psychologists suggest that the events in the brain bear a structural correspondence to psychological events; indeed, it has been shown that steady electric currents in the brain correspond to structured perceptual events\n"
     ]
    }
   ],
   "source": [
    "summarizer = LexRankSummarizer()\n",
    "#Summarize the document with 2 sentences\n",
    "summary = summarizer(Parser.document, 2)\n",
    "for sentence in summary:\n",
    "    print(sentence)"
   ]
  },
  {
   "cell_type": "code",
   "execution_count": 39,
   "metadata": {},
   "outputs": [
    {
     "name": "stdout",
     "output_type": "stream",
     "text": [
      "School of psychology, that interprets phenomena as organized wholes rather than as aggregates of distinct parts, maintaining that the whole is greater than the sum of its parts.\n",
      "Gestalt psychologists suggest that the events in the brain bear a structural correspondence to psychological events; indeed, it has been shown that steady electric currents in the brain correspond to structured perceptual events\n"
     ]
    }
   ],
   "source": [
    "summarizer = LexRankSummarizer()\n",
    "#Summarize the document with 2 sentences\n",
    "summary = summarizer(Parser.document, 2)\n",
    "for sentence in summary:\n",
    "    print(sentence)"
   ]
  },
  {
   "cell_type": "code",
   "execution_count": null,
   "metadata": {},
   "outputs": [],
   "source": []
  },
  {
   "cell_type": "code",
   "execution_count": null,
   "metadata": {},
   "outputs": [],
   "source": []
  },
  {
   "cell_type": "code",
   "execution_count": null,
   "metadata": {},
   "outputs": [],
   "source": []
  },
  {
   "cell_type": "code",
   "execution_count": null,
   "metadata": {},
   "outputs": [],
   "source": []
  },
  {
   "cell_type": "code",
   "execution_count": null,
   "metadata": {},
   "outputs": [],
   "source": []
  },
  {
   "cell_type": "code",
   "execution_count": null,
   "metadata": {},
   "outputs": [],
   "source": []
  },
  {
   "cell_type": "code",
   "execution_count": null,
   "metadata": {},
   "outputs": [],
   "source": []
  },
  {
   "cell_type": "code",
   "execution_count": null,
   "metadata": {},
   "outputs": [],
   "source": []
  },
  {
   "cell_type": "code",
   "execution_count": null,
   "metadata": {},
   "outputs": [],
   "source": []
  }
 ],
 "metadata": {
  "kernelspec": {
   "display_name": "Python 3",
   "language": "python",
   "name": "python3"
  },
  "language_info": {
   "codemirror_mode": {
    "name": "ipython",
    "version": 3
   },
   "file_extension": ".py",
   "mimetype": "text/x-python",
   "name": "python",
   "nbconvert_exporter": "python",
   "pygments_lexer": "ipython3",
   "version": "3.6.6"
  }
 },
 "nbformat": 4,
 "nbformat_minor": 2
}
