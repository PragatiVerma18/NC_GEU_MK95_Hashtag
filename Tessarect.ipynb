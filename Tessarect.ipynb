{
 "cells": [
  {
   "cell_type": "code",
   "execution_count": 10,
   "metadata": {},
   "outputs": [],
   "source": [
    "import Algorithmia\n",
    "import time"
   ]
  },
  {
   "cell_type": "code",
   "execution_count": 11,
   "metadata": {},
   "outputs": [],
   "source": [
    "start=time.time()\n",
    "input = \"https://i.ibb.co/LpGW5Qf/Advertisement-Contractual-Chemical-Assistant-new.jpg\""
   ]
  },
  {
   "cell_type": "code",
   "execution_count": 12,
   "metadata": {},
   "outputs": [
    {
     "name": "stdout",
     "output_type": "stream",
     "text": [
      "Oil India ted (OIL), a Navratna Pu c Sector Undertaking is a oneer National upstream Oil and Gas Company with a pan Indian\n",
      "presence and growi g global footprint. It is engage in Explorat n, Production and Transportation of crude oil, natural gas and\n",
      "manufacture of LPG with its Field Headquarters at Du j n, Distric Dibrugarh (Assam)\n",
      "\n",
      " \n",
      "\n",
      "(d) The process of Walk-in-lnterview will proceed as per the list of ndidate(s) registered for the same.\n",
      "\n",
      "(e) The pass marks of the Walk-in-lnterview (s) will be minimum 50%. Final selection of candidates from among those securing\n",
      "minimum pass marks of 50% will be only as per merit on the basis of the marks obtained in the Walk-in-lnterview (s).\n",
      "\n",
      "3.0 Terms and conditions:\n",
      "\n",
      "(a) In view of the current situation arising out of COVlD-19 pandemic, any new guidelines issued from the Government will\n",
      "have to be strictly followed and as such, the date of Walk-in-lnterview might get delayed/extended/postponed/ ncelled\n",
      "in line with the Government guidelines. Hence, the interested ndidates are advised to keep checking OlL’s website\n",
      "regularly.\n",
      "\n",
      "(b) Candidates are advised to strictly abide by all the guidelines/SOPs as per extant directives/order issued by Ministry of\n",
      "Home Affairs, Government of India and Government of Assam pertaining to COVlD-19 pandemic situation.\n",
      "\n",
      "(c) Please note that, while conducting the Walk-in-lnterview, all the Government orders/guidelines issued from time to time\n",
      "on the matter of the ongoing COVlD-19 pandemic situation will be strictly followed. Accordingly, as per order no.\n",
      "DRF 9/2020/196 dated 07/07/2020 issued by the Oﬁice of the Deputy Commissioner, Dibrugarh, all persons arriving\n",
      "from Guwahati will have to report at the Screening Centre at Sepon Sokolia, Moran of Dibrugarh District invariably and\n",
      "after screening, they will have to remain under strict Home Quarantine for a period of 14 (fourteen) days.\n",
      "\n",
      "(d) Candidates are advised to take all necessary precautionary safety measures (wearing of mask, hand gloves, rrying\n",
      "hand sanitizer, maintaining social distance and maintaining hygiene will be mandatory) while reporting for the Walk-in-\n",
      "Interview.\n",
      "\n",
      "(e) In case any ndidate is found to violate the strict norms/COVlD-19 protocols laid down by the Government and also\n",
      "\n",
      "highlighted hereinabove, he/she will be barred from appearing in the Walk-in-lnterview/disqualiﬁed at anytime during the\n",
      "Walk-in-lnterview process.\n",
      "\n",
      "(f) Candidates have to make their own arrangements to appear for the Walk-in-lnterview viz. travel, accommodation etc.\n",
      "(9) TA/DA will not be provided to the ndidate(s) for appearing in the Walk-in-lnterview.\n",
      "\n",
      "(h) Any false/fake/incorrect information provided or document(s)/certiﬁte(s)/testimonial(s) submitted or any adverse report\n",
      "of character and antecedents detected at any stage/time under any circumstance shall be veriﬁed from appropriate\n",
      "authority and necessary action as deemed to be ﬁt will be taken in this regard.\n",
      "\n",
      "(i) Canvassing in any form whether directly or indirectly shall amount to rejection of candidature.\n",
      "\n",
      "(j) Engagement of the selected ndidate(s) will be subject to necessary pre-engagement formalities viz.\n",
      "document/certiﬁcate checking, submission of required document/certiﬁcate, medil ﬁtness certiﬁcate etc The\n",
      "ndidates should be of sound health and has to provide a fitness certiﬁcate meeting the medical standards as prescribed\n",
      "in the Physical Fitness criteria available at( ‘ ' ‘ )from a Government registered\n",
      "medil practitioner at the time of engagement.\n",
      "\n",
      "(k) Candidate(s) working in any Government Department/Organisation/PSU, if selected, has to submit release letter, in\n",
      "original, from the present employer at the time of engagement.\n",
      "\n",
      "(l) The selected candidate(s) will have to arrange accommodation at his/her own cost during the period of the above\n",
      "contractual engagement.\n",
      "\n",
      "(m) The above engagement is purely of contractual nature only. Accordingly, no right/claim whatsoever will confer on the\n",
      "selected candidate(s) for employment in Oil India Limited by virtue of the above contractual engagement.\n",
      "\n",
      "(n) In addition to above, any other terms & conditions/rules & regulations/policy & procedures will also be applible for\n",
      "contractual engagement as existing from time to time.\n",
      "\n",
      "*wmmmmmmmmnwmn\n",
      "\n",
      "BEWARE OF FRAUDULENT OFFERS\n",
      "\n",
      "It has been brought to our notice that some unscrupulous individuals/criminal elements are attempting to defraud\n",
      "jobseekers/general public by issuing fake engagement/appointment letters, assuring jobs etc. in Oil India Limited. It may\n",
      "be noted that Oil India Limited has well laid out and transparent policies/procedures and engagement/appointment letters\n",
      "\n",
      "are issued by the Company to selected candidates at the conclusion of such a process. Oil India Limited does not\n",
      "authorize any person/organization outside of Oil India Limited to offer any job on its behalf.\n",
      "\n",
      "Through this public notice, Oil India Limited warns all job seekers/general public to be vigilant against such unscrupulous\n",
      "elements and reject such engagement/appointment letters, assurance ofjobs etc. in the Company. Oil India Limited will\n",
      "\n",
      "not be responsible for any loss/damage suffered either directly or as a consequence of such fake offers from any source\n",
      "whatsoever.\n"
     ]
    }
   ],
   "source": [
    "client = Algorithmia.client('sim9j/0PIOv0lptTs1f0MHIe1G01')\n",
    "algo = client.algo('ocr/RecognizeCharacters/0.3.0')\n",
    "algo.set_options(timeout=300) # optional\n",
    "print(algo.pipe(input).result)"
   ]
  },
  {
   "cell_type": "code",
   "execution_count": 13,
   "metadata": {},
   "outputs": [
    {
     "name": "stdout",
     "output_type": "stream",
     "text": [
      "38.14636540412903\n"
     ]
    }
   ],
   "source": [
    "print(time.time()-start)"
   ]
  },
  {
   "cell_type": "code",
   "execution_count": null,
   "metadata": {},
   "outputs": [],
   "source": []
  }
 ],
 "metadata": {
  "kernelspec": {
   "display_name": "Python 3",
   "language": "python",
   "name": "python3"
  },
  "language_info": {
   "codemirror_mode": {
    "name": "ipython",
    "version": 3
   },
   "file_extension": ".py",
   "mimetype": "text/x-python",
   "name": "python",
   "nbconvert_exporter": "python",
   "pygments_lexer": "ipython3",
   "version": "3.6.6"
  }
 },
 "nbformat": 4,
 "nbformat_minor": 2
}
