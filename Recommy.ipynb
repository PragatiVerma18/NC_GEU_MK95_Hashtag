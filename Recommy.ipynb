{
 "cells": [
  {
   "cell_type": "code",
   "execution_count": 1,
   "metadata": {},
   "outputs": [],
   "source": [
    "import pandas as pd\n",
    "\n"
   ]
  },
  {
   "cell_type": "code",
   "execution_count": 2,
   "metadata": {},
   "outputs": [
    {
     "name": "stdout",
     "output_type": "stream",
     "text": [
      "                   job_name  education  branch  years  ratings  no_of_ratings\n",
      "0          Engineer at ONGC          4       2      1     4.00           1202\n",
      "1  Technician at power grid          3       2      2     3.80           2500\n",
      "2                 Physician          5       3      3     4.50           3500\n",
      "3          Police Constable          2       1      1     3.60          10000\n",
      "4            Civil Services          4       5      5     5.00            800\n",
      "5                   Teacher          5       5      4     4.10           7000\n",
      "6                 Professor          6       6      5     4.20           3650\n",
      "7                Researcher          6       6      5     3.87            902\n",
      "8                    Driver          2       1      1     3.45           4523\n",
      "9                    Fitter          3       1      1     3.00           2549\n",
      "For 10th level schooling -> 1\n",
      "For 12th level schooling -> 2\n",
      "For any technical diploma -> 3\n",
      "For bachelor degree -> 4\n",
      "For master degree -> 5\n",
      "For Ph.D -> 6\n",
      "input your max edu code5\n",
      "For no degree -> 1\n",
      "For degree in Technology -> 2\n",
      "For degree in medical ->3\n",
      "For degree in arts -> 4\n",
      "For minimum any bachelor degree -> 5\n",
      "input your branch code5\n",
      "    job_name  education  branch  years  ratings  no_of_ratings\n",
      "2  Physician          5       3      3      4.5           3500\n",
      "5    Teacher          5       5      4      4.1           7000\n",
      "  job_name  education  branch  years  ratings  no_of_ratings\n",
      "5  Teacher          5       5      4      4.1           7000\n",
      "7000.0\n",
      "Empty DataFrame\n",
      "Columns: [job_name, education, branch, years, ratings, no_of_ratings]\n",
      "Index: []\n",
      "recommende jobs\n"
     ]
    }
   ],
   "source": [
    "df = pd.read_excel('file:\\\\\\E:\\\\finals%20Test\\\\rec.xlsx')\n",
    "\n",
    "print(df)\n",
    "\n",
    "print('For 10th level schooling -> 1','For 12th level schooling -> 2','For any technical diploma -> 3','For bachelor degree -> 4','For master degree -> 5',sep='\\n')\n",
    "print('For Ph.D -> 6')\n",
    "user_edu = int(input('input your max edu code'))\n",
    "\n",
    "print('For no degree -> 1','For degree in Technology -> 2','For degree in medical ->3','For degree in arts -> 4', 'For minimum any bachelor degree -> 5',sep = '\\n')\n",
    "\n",
    "user_stream = int(input('input your branch code'))\n",
    "\n",
    "#max education , branch\n",
    "is_edu = df['education']==user_edu \n",
    "df1 = df[is_edu]\n",
    "print(df1)\n",
    "df2 = df1.copy().loc[df['branch'] == user_stream]\n",
    "print(df2)\n",
    "m = df2['no_of_ratings'].quantile(0.90)\n",
    "mf = df2['no_of_ratings'] > m\n",
    "print(m)\n",
    "print(df2[mf])\n",
    "print('recommende jobs')\n"
   ]
  },
  {
   "cell_type": "code",
   "execution_count": null,
   "metadata": {},
   "outputs": [],
   "source": []
  }
 ],
 "metadata": {
  "kernelspec": {
   "display_name": "Python 3",
   "language": "python",
   "name": "python3"
  },
  "language_info": {
   "codemirror_mode": {
    "name": "ipython",
    "version": 3
   },
   "file_extension": ".py",
   "mimetype": "text/x-python",
   "name": "python",
   "nbconvert_exporter": "python",
   "pygments_lexer": "ipython3",
   "version": "3.6.6"
  }
 },
 "nbformat": 4,
 "nbformat_minor": 2
}
