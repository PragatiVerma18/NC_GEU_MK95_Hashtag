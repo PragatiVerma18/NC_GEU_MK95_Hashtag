{
 "cells": [
  {
   "cell_type": "code",
   "execution_count": 120,
   "metadata": {},
   "outputs": [],
   "source": [
    "import tabula\n",
    "import time\n",
    "import urllib\n",
    "import warnings\n",
    "warnings.filterwarnings(\"ignore\")\n"
   ]
  },
  {
   "cell_type": "code",
   "execution_count": 121,
   "metadata": {},
   "outputs": [
    {
     "name": "stderr",
     "output_type": "stream",
     "text": [
      "Got stderr: Aug 02, 2020 9:33:35 AM org.apache.pdfbox.pdmodel.font.PDCIDFontType2 <init>\r\n",
      "INFO: OpenType Layout tables used in font ABCDEE+Calibri are not implemented in PDFBox and will be ignored\r\n",
      "Aug 02, 2020 9:33:35 AM org.apache.pdfbox.pdmodel.font.PDCIDFontType2 <init>\r\n",
      "INFO: OpenType Layout tables used in font ABCDEE+Calibri are not implemented in PDFBox and will be ignored\r\n",
      "Aug 02, 2020 9:33:35 AM org.apache.pdfbox.pdmodel.font.PDCIDFontType2 <init>\r\n",
      "INFO: OpenType Layout tables used in font ABCDEE+Calibri are not implemented in PDFBox and will be ignored\r\n",
      "Aug 02, 2020 9:33:36 AM org.apache.pdfbox.pdmodel.font.PDCIDFontType2 <init>\r\n",
      "INFO: OpenType Layout tables used in font ABCDEE+Calibri are not implemented in PDFBox and will be ignored\r\n",
      "Aug 02, 2020 9:33:36 AM org.apache.pdfbox.pdmodel.font.PDCIDFontType2 <init>\r\n",
      "INFO: OpenType Layout tables used in font ABCDEE+Calibri are not implemented in PDFBox and will be ignored\r\n",
      "\n"
     ]
    },
    {
     "name": "stdout",
     "output_type": "stream",
     "text": [
      "1.6685664653778076\n"
     ]
    }
   ],
   "source": [
    "start=time.time()\n",
    "a=tabula.read_pdf('C:\\\\Users\\\\This PC\\\\Desktop\\\\new2.pdf',pages='all')\n",
    "print(time.time()-start)\n",
    "pdf_path = 'https://github.com/abhinav223/PDF/blob/master/sample.pdf'\n",
    "#a=tabula.read_pdf('http://bopter.gov.in/assets/pdf/Graduate_Technician_Apprentices.pdf',pages='all')\n",
    "#a=tabula.read_pdf(pdf_path,pages='all',stream='True')"
   ]
  },
  {
   "cell_type": "code",
   "execution_count": 122,
   "metadata": {},
   "outputs": [],
   "source": [
    "import pandas as pd\n",
    "df=pd.DataFrame(a)"
   ]
  },
  {
   "cell_type": "code",
   "execution_count": 123,
   "metadata": {},
   "outputs": [
    {
     "data": {
      "text/plain": [
       "1"
      ]
     },
     "execution_count": 123,
     "metadata": {},
     "output_type": "execute_result"
    }
   ],
   "source": [
    "len(a)"
   ]
  },
  {
   "cell_type": "code",
   "execution_count": 124,
   "metadata": {},
   "outputs": [
    {
     "data": {
      "text/plain": [
       "[               Name of the Post                    Lab. Technician\n",
       " 0                Number of Post                                 03\n",
       " 1               Upper Age Limit          General – 35 years, Other\n",
       " 2                           NaN        Backward Classes (OBC) – 38\n",
       " 3                           NaN    years and SC/ST and CAT. I – 40\n",
       " 4                           NaN                             years.\n",
       " 5           Consolidated Salary             Rs. 30,000/-pm (fixed)\n",
       " 6                      Duration                          15 months\n",
       " 7   Essential Qualification and  Master’s Degree in Life Sciences,\n",
       " 8                    Experience       Microbiology, Biotechnology,\n",
       " 9                           NaN            and Biochemistry from a\n",
       " 10                          NaN    recognized university with work\n",
       " 11                          NaN      experience in relevant field.\n",
       " 12         Desirable Experience           Experience in a research\n",
       " 13                          NaN                       organization\n",
       " 14             Nature of Duties            Overall coordination of\n",
       " 15                          NaN    administrative activities under\n",
       " 16                          NaN   the project along with the Study\n",
       " 17                          NaN                               team]"
      ]
     },
     "execution_count": 124,
     "metadata": {},
     "output_type": "execute_result"
    }
   ],
   "source": [
    "a"
   ]
  },
  {
   "cell_type": "code",
   "execution_count": 125,
   "metadata": {},
   "outputs": [
    {
     "data": {
      "text/plain": [
       "(1, 1)"
      ]
     },
     "execution_count": 125,
     "metadata": {},
     "output_type": "execute_result"
    }
   ],
   "source": [
    "df.shape"
   ]
  },
  {
   "cell_type": "code",
   "execution_count": 128,
   "metadata": {},
   "outputs": [
    {
     "name": "stderr",
     "output_type": "stream",
     "text": [
      "Got stderr: Aug 02, 2020 12:52:04 PM org.apache.pdfbox.pdmodel.font.PDCIDFontType2 <init>\r\n",
      "INFO: OpenType Layout tables used in font ABCDEE+Calibri are not implemented in PDFBox and will be ignored\r\n",
      "Aug 02, 2020 12:52:04 PM org.apache.pdfbox.pdmodel.font.PDCIDFontType2 <init>\r\n",
      "INFO: OpenType Layout tables used in font ABCDEE+Calibri are not implemented in PDFBox and will be ignored\r\n",
      "Aug 02, 2020 12:52:05 PM org.apache.pdfbox.pdmodel.font.PDCIDFontType2 <init>\r\n",
      "INFO: OpenType Layout tables used in font ABCDEE+Calibri are not implemented in PDFBox and will be ignored\r\n",
      "Aug 02, 2020 12:52:05 PM org.apache.pdfbox.pdmodel.font.PDCIDFontType2 <init>\r\n",
      "INFO: OpenType Layout tables used in font ABCDEE+Calibri are not implemented in PDFBox and will be ignored\r\n",
      "Aug 02, 2020 12:52:05 PM org.apache.pdfbox.pdmodel.font.PDCIDFontType2 <init>\r\n",
      "INFO: OpenType Layout tables used in font ABCDEE+Calibri are not implemented in PDFBox and will be ignored\r\n",
      "\n"
     ]
    }
   ],
   "source": [
    "tabula.convert_into('C:\\\\Users\\\\This PC\\\\Desktop\\\\new2.pdf','test.tsv',output_format='tsv',pages='all')\n",
    "%more test.tsv"
   ]
  },
  {
   "cell_type": "code",
   "execution_count": 129,
   "metadata": {},
   "outputs": [],
   "source": [
    "\n",
    "sd = pd.read_csv('test.tsv', sep='\\t',encoding='cp1252')"
   ]
  },
  {
   "cell_type": "code",
   "execution_count": 130,
   "metadata": {},
   "outputs": [
    {
     "data": {
      "text/html": [
       "<div>\n",
       "<style scoped>\n",
       "    .dataframe tbody tr th:only-of-type {\n",
       "        vertical-align: middle;\n",
       "    }\n",
       "\n",
       "    .dataframe tbody tr th {\n",
       "        vertical-align: top;\n",
       "    }\n",
       "\n",
       "    .dataframe thead th {\n",
       "        text-align: right;\n",
       "    }\n",
       "</style>\n",
       "<table border=\"1\" class=\"dataframe\">\n",
       "  <thead>\n",
       "    <tr style=\"text-align: right;\">\n",
       "      <th></th>\n",
       "      <th>Name of the Post</th>\n",
       "      <th>Lab. Technician</th>\n",
       "    </tr>\n",
       "  </thead>\n",
       "  <tbody>\n",
       "    <tr>\n",
       "      <th>0</th>\n",
       "      <td>Number of Post</td>\n",
       "      <td>03</td>\n",
       "    </tr>\n",
       "    <tr>\n",
       "      <th>1</th>\n",
       "      <td>Upper Age Limit</td>\n",
       "      <td>General – 35 years, Other</td>\n",
       "    </tr>\n",
       "    <tr>\n",
       "      <th>2</th>\n",
       "      <td>NaN</td>\n",
       "      <td>Backward Classes (OBC) – 38</td>\n",
       "    </tr>\n",
       "    <tr>\n",
       "      <th>3</th>\n",
       "      <td>NaN</td>\n",
       "      <td>years and SC/ST and CAT. I – 40</td>\n",
       "    </tr>\n",
       "    <tr>\n",
       "      <th>4</th>\n",
       "      <td>NaN</td>\n",
       "      <td>years.</td>\n",
       "    </tr>\n",
       "  </tbody>\n",
       "</table>\n",
       "</div>"
      ],
      "text/plain": [
       "  Name of the Post                  Lab. Technician\n",
       "0   Number of Post                               03\n",
       "1  Upper Age Limit        General – 35 years, Other\n",
       "2              NaN      Backward Classes (OBC) – 38\n",
       "3              NaN  years and SC/ST and CAT. I – 40\n",
       "4              NaN                           years."
      ]
     },
     "execution_count": 130,
     "metadata": {},
     "output_type": "execute_result"
    }
   ],
   "source": [
    "dfs = pd.DataFrame(sd)\n",
    "#dfs.set_index('Sl.').Monthly.str.split(r'\\n').apply(pd.Series).stack().reset_index(level=1,drop=True).to_frame('t')\n",
    "dfs.head()"
   ]
  },
  {
   "cell_type": "code",
   "execution_count": 131,
   "metadata": {},
   "outputs": [
    {
     "data": {
      "text/plain": [
       "Index(['Name of the Post', 'Lab. Technician'], dtype='object')"
      ]
     },
     "execution_count": 131,
     "metadata": {},
     "output_type": "execute_result"
    }
   ],
   "source": [
    "dfs.columns"
   ]
  },
  {
   "cell_type": "code",
   "execution_count": 132,
   "metadata": {},
   "outputs": [],
   "source": [
    "dfs.to_csv('extracted.csv')"
   ]
  },
  {
   "cell_type": "code",
   "execution_count": 133,
   "metadata": {},
   "outputs": [],
   "source": [
    "import numpy as np"
   ]
  },
  {
   "cell_type": "code",
   "execution_count": 134,
   "metadata": {},
   "outputs": [],
   "source": [
    "arr1 = np.array(dfs.iloc[:,0])"
   ]
  },
  {
   "cell_type": "code",
   "execution_count": 135,
   "metadata": {},
   "outputs": [],
   "source": [
    "arr2 = np.array(dfs.iloc[:,1])"
   ]
  },
  {
   "cell_type": "code",
   "execution_count": 136,
   "metadata": {},
   "outputs": [
    {
     "data": {
      "text/plain": [
       "array(['Number of Post', 'Upper Age Limit', nan, nan, nan,\n",
       "       'Consolidated Salary', 'Duration', 'Essential Qualification and',\n",
       "       'Experience', nan, nan, nan, 'Desirable Experience', nan,\n",
       "       'Nature of Duties', nan, nan, nan], dtype=object)"
      ]
     },
     "execution_count": 136,
     "metadata": {},
     "output_type": "execute_result"
    }
   ],
   "source": [
    "arr1"
   ]
  },
  {
   "cell_type": "code",
   "execution_count": 137,
   "metadata": {},
   "outputs": [
    {
     "data": {
      "text/plain": [
       "array(['03', 'General – 35 years, Other', 'Backward Classes (OBC) – 38',\n",
       "       'years and SC/ST and CAT. I – 40', 'years.',\n",
       "       'Rs. 30,000/-pm (fixed)', '15 months',\n",
       "       'Master’s Degree in Life Sciences,',\n",
       "       'Microbiology, Biotechnology,', 'and Biochemistry from a',\n",
       "       'recognized university with work', 'experience in relevant field.',\n",
       "       'Experience in a research', 'organization',\n",
       "       'Overall coordination of', 'administrative activities under',\n",
       "       'the project along with the Study', 'team'], dtype=object)"
      ]
     },
     "execution_count": 137,
     "metadata": {},
     "output_type": "execute_result"
    }
   ],
   "source": [
    "arr2"
   ]
  },
  {
   "cell_type": "code",
   "execution_count": 138,
   "metadata": {},
   "outputs": [],
   "source": [
    "dfs.to_csv('extracted.csv')"
   ]
  },
  {
   "cell_type": "code",
   "execution_count": 139,
   "metadata": {},
   "outputs": [],
   "source": [
    "jso=dfs.to_json()"
   ]
  },
  {
   "cell_type": "code",
   "execution_count": 140,
   "metadata": {},
   "outputs": [
    {
     "data": {
      "text/plain": [
       "'{\"Name of the Post\":{\"0\":\"Number of Post\",\"1\":\"Upper Age Limit\",\"2\":null,\"3\":null,\"4\":null,\"5\":\"Consolidated Salary\",\"6\":\"Duration\",\"7\":\"Essential Qualification and\",\"8\":\"Experience\",\"9\":null,\"10\":null,\"11\":null,\"12\":\"Desirable Experience\",\"13\":null,\"14\":\"Nature of Duties\",\"15\":null,\"16\":null,\"17\":null},\"Lab. Technician\":{\"0\":\"03\",\"1\":\"General \\\\u2013 35 years, Other\",\"2\":\"Backward Classes (OBC) \\\\u2013 38\",\"3\":\"years and SC\\\\/ST and CAT. I \\\\u2013 40\",\"4\":\"years.\",\"5\":\"Rs. 30,000\\\\/-pm (fixed)\",\"6\":\"15 months\",\"7\":\"Master\\\\u2019s Degree in Life Sciences,\",\"8\":\"Microbiology, Biotechnology,\",\"9\":\"and Biochemistry from a\",\"10\":\"recognized university with work\",\"11\":\"experience in relevant field.\",\"12\":\"Experience in a research\",\"13\":\"organization\",\"14\":\"Overall coordination of\",\"15\":\"administrative activities under\",\"16\":\"the project along with the Study\",\"17\":\"team\"}}'"
      ]
     },
     "execution_count": 140,
     "metadata": {},
     "output_type": "execute_result"
    }
   ],
   "source": [
    "jso"
   ]
  },
  {
   "cell_type": "code",
   "execution_count": 141,
   "metadata": {},
   "outputs": [],
   "source": [
    "dictionary = dict(zip(arr1,arr2))"
   ]
  },
  {
   "cell_type": "code",
   "execution_count": 142,
   "metadata": {},
   "outputs": [
    {
     "data": {
      "text/plain": [
       "{'Number of Post': '03',\n",
       " 'Upper Age Limit': 'General – 35 years, Other',\n",
       " nan: 'team',\n",
       " 'Consolidated Salary': 'Rs. 30,000/-pm (fixed)',\n",
       " 'Duration': '15 months',\n",
       " 'Essential Qualification and': 'Master’s Degree in Life Sciences,',\n",
       " 'Experience': 'Microbiology, Biotechnology,',\n",
       " 'Desirable Experience': 'Experience in a research',\n",
       " 'Nature of Duties': 'Overall coordination of'}"
      ]
     },
     "execution_count": 142,
     "metadata": {},
     "output_type": "execute_result"
    }
   ],
   "source": [
    "dictionary"
   ]
  },
  {
   "cell_type": "code",
   "execution_count": null,
   "metadata": {},
   "outputs": [],
   "source": []
  }
 ],
 "metadata": {
  "kernelspec": {
   "display_name": "Python 3",
   "language": "python",
   "name": "python3"
  },
  "language_info": {
   "codemirror_mode": {
    "name": "ipython",
    "version": 3
   },
   "file_extension": ".py",
   "mimetype": "text/x-python",
   "name": "python",
   "nbconvert_exporter": "python",
   "pygments_lexer": "ipython3",
   "version": "3.7.3"
  }
 },
 "nbformat": 4,
 "nbformat_minor": 2
}
